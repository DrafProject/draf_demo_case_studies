{
 "cells": [
  {
   "cell_type": "markdown",
   "id": "a44c7a22",
   "metadata": {},
   "source": [
    "# DRAF demo Case Study 1: Price-Based DR Potential of Industrial Production Process"
   ]
  },
  {
   "cell_type": "code",
   "execution_count": null,
   "id": "c1ca9e0f",
   "metadata": {},
   "outputs": [],
   "source": [
    "import seaborn as sns\n",
    "import matplotlib.pyplot as plt\n",
    "import holidays\n",
    "\n",
    "import draf\n",
    "from draf.components import *"
   ]
  },
  {
   "cell_type": "markdown",
   "id": "2d2fb83b",
   "metadata": {},
   "source": [
    "## Prepare Data"
   ]
  },
  {
   "cell_type": "code",
   "execution_count": null,
   "id": "6c27dada",
   "metadata": {},
   "outputs": [],
   "source": [
    "def make_sort_demand_TS(cs):\n",
    "    avg_demand = {\n",
    "        1: 1310,\n",
    "        2: 2030,\n",
    "        3: 2810,\n",
    "        4: 3120,\n",
    "        5: 3430,\n",
    "        6: 3750,\n",
    "        7: 3280,\n",
    "        8: 3040,\n",
    "        9: 3430,\n",
    "        10: 3430,\n",
    "        11: 3280,\n",
    "        12: 1800,\n",
    "    }\n",
    "\n",
    "    ser = pd.Series(data=cs.dtindex, index=range(len(cs.dtindex)))\n",
    "    is_demand = ser.apply(\n",
    "        lambda x: True\n",
    "        if (8 <= x.hour < 20) and x.dayofweek < 5 and x not in holidays.Germany(prov=\"BW\")\n",
    "        else False\n",
    "    )\n",
    "    ser.loc[is_demand] = ser.dt.month.map(avg_demand) / 12\n",
    "    ser.loc[~is_demand] = 0\n",
    "\n",
    "    shares = pd.Series([1, 1, 2], index=range(1, 4))\n",
    "    shares = shares / shares.sum()\n",
    "\n",
    "    return (ser.to_frame() @ shares.to_frame().T).stack()\n",
    "\n",
    "\n",
    "def remove_invalid_sort_machine_combinations(sc):\n",
    "    for sm in [(2, 1), (1, 2)]:\n",
    "        sc.params.y_PP_compat_SM[sm] = 0\n",
    "\n",
    "\n",
    "def get_eta_PP_SM():\n",
    "    sort_factors = (pd.Series([0.019, 0.020, 0.021], index=[1, 2, 3])).to_frame()\n",
    "    machine_factors = pd.Series([0.95, 1.0], index=[1, 2]).to_frame()\n",
    "    return (sort_factors @ machine_factors.T).stack()\n",
    "\n",
    "\n",
    "def add_machine_revisions(sc):\n",
    "    # (March 15th until March 16th):\n",
    "    sc.params.y_PP_avail_TM.loc[sc.timeslice(\"3-15\", \"3-16\"), 1] = 0\n",
    "    sc.params.y_PP_avail_TM.loc[sc.timeslice(\"2-15\", \"2-16\"), 1] = 0\n",
    "\n",
    "\n",
    "sort_colors = [\"#6c8ebf\", \"#d79b00\", \"#b85450\"]"
   ]
  },
  {
   "cell_type": "markdown",
   "id": "4a04beee",
   "metadata": {},
   "source": [
    "## Modeling"
   ]
  },
  {
   "cell_type": "code",
   "execution_count": null,
   "id": "f001f98b",
   "metadata": {},
   "outputs": [],
   "source": [
    "coords = (49.01, 8.39)  # Random place in Karlsruhe\n",
    "cs = draf.CaseStudy(\"draf_demo_cs1\", year=2019, freq=\"60min\", coords=coords, consider_invest=False)\n",
    "# cs.set_time_horizon(start=\"Jun-01 00:00\", steps=30 * 24)\n",
    "sorts = (1, 2, 3)\n",
    "machines = (1, 2)\n",
    "sc = cs.add_REF_scen(components=[eDem, EG, PP, PS, pDem(sorts=sorts, machines=machines), Main])\n",
    "sc.update_params(\n",
    "    c_EG_buyPeak_=50,\n",
    "    P_PP_CAPx_M=3500,\n",
    "    k_PP_minPL_M=1.0,\n",
    "    y_PP_compat_SM=1,\n",
    "    G_PS_CAPx_S=5000,\n",
    "    k_PS_min_S=0.2,\n",
    "    c_PP_SU_=10,\n",
    "    c_PP_SC_=10,\n",
    ")\n",
    "remove_invalid_sort_machine_combinations(sc)\n",
    "add_machine_revisions(sc)\n",
    "sc.params.eta_PP_SM.update(get_eta_PP_SM())\n",
    "sc.params.dG_pDem_TS.update(make_sort_demand_TS(cs))\n",
    "\n",
    "cs.add_scens([(\"c_EG_T\", \"t\", [f\"c_EG_{s}_T\" for s in [\"TOU\", \"RTP\"]])], remove_base=True)"
   ]
  },
  {
   "cell_type": "code",
   "execution_count": null,
   "id": "1758e425",
   "metadata": {},
   "outputs": [],
   "source": [
    "# Uncomment to run optimization:\n",
    "# cs.optimize(parallel=True).save(name=f\"{cs.year}\")"
   ]
  },
  {
   "cell_type": "code",
   "execution_count": null,
   "id": "b885a4fc",
   "metadata": {},
   "outputs": [],
   "source": [
    "cs = draf.open_latest_casestudy(\"draf_demo_cs1\")"
   ]
  },
  {
   "cell_type": "markdown",
   "id": "8d36dd4f",
   "metadata": {},
   "source": [
    "## Plot Parameters"
   ]
  },
  {
   "cell_type": "markdown",
   "id": "b49fea85",
   "metadata": {},
   "source": [
    "### Plot Production Efficiency"
   ]
  },
  {
   "cell_type": "code",
   "execution_count": null,
   "id": "fbfc52a3",
   "metadata": {},
   "outputs": [],
   "source": [
    "(get_eta_PP_SM().unstack() * 1e3).plot(style=[\":o\", \":x\"], figsize=(2.5, 2), color=[\"k\", \"grey\"])\n",
    "plt.ylim(16)\n",
    "plt.xticks([1, 2, 3])\n",
    "plt.ylabel(\"Production efficiency\\n(t/MWh)\")\n",
    "plt.xlabel(\"Cement sort\")\n",
    "plt.legend(loc=\"lower right\", title=\"Cement mill\")\n",
    "sns.despine()"
   ]
  },
  {
   "cell_type": "markdown",
   "id": "e326447a",
   "metadata": {},
   "source": [
    "### Plot Sort Demand"
   ]
  },
  {
   "cell_type": "code",
   "execution_count": null,
   "id": "0a09e01a",
   "metadata": {},
   "outputs": [],
   "source": [
    "demand = make_sort_demand_TS(cs)\n",
    "fig, ax = plt.subplots(2, figsize=(6, 3), sharex=True)\n",
    "df = cs.dated(demand.unstack()).sort_index(axis=1, ascending=False)\n",
    "df.plot.area(linewidth=0, ax=ax[0], color=sort_colors[::-1])\n",
    "handles, labels = ax[0].get_legend_handles_labels()\n",
    "ax[0].legend(\n",
    "    handles[::-1],\n",
    "    labels[::-1],\n",
    "    title=\"Sort\",\n",
    "    fontsize=\"small\",\n",
    "    frameon=True,\n",
    "    loc=\"lower center\",\n",
    "    ncol=3,\n",
    ")\n",
    "plt.margins(0)\n",
    "ax[0].set_ylabel(\"Cement demand\\n(t/h)\")\n",
    "cs.dated(cs.REF_scen.params.P_eDem_T).plot(ax=ax[1], color=\"grey\", linewidth=0.1)\n",
    "ax[1].set_ylabel(\"$P_{el,fixed}$ (kW)\")\n",
    "sns.despine()"
   ]
  },
  {
   "cell_type": "markdown",
   "id": "a881635f",
   "metadata": {},
   "source": [
    "## Plot Results"
   ]
  },
  {
   "cell_type": "markdown",
   "id": "91cadf86",
   "metadata": {},
   "source": [
    "### Interactive"
   ]
  },
  {
   "cell_type": "code",
   "execution_count": null,
   "id": "a225e189",
   "metadata": {},
   "outputs": [],
   "source": [
    "cs.plot.tables()"
   ]
  },
  {
   "cell_type": "code",
   "execution_count": null,
   "id": "defd2f72",
   "metadata": {},
   "outputs": [],
   "source": [
    "cs.plot.heatmap_interact(\"v\")"
   ]
  },
  {
   "cell_type": "code",
   "execution_count": null,
   "id": "e1a185b8",
   "metadata": {},
   "outputs": [],
   "source": [
    "cs.plot.heatmap_interact(\"v\", dim=\"TSM\")"
   ]
  },
  {
   "cell_type": "code",
   "execution_count": null,
   "id": "1ba91e46",
   "metadata": {},
   "outputs": [],
   "source": [
    "cs.scens.tc_EG_RTP_T.plot.collectors(filter_etype=\"P\")"
   ]
  },
  {
   "cell_type": "code",
   "execution_count": null,
   "id": "428d5fe1",
   "metadata": {},
   "outputs": [],
   "source": [
    "cs.scens.tc_EG_RTP_T.plot.collectors(filter_etype=\"C\")"
   ]
  },
  {
   "cell_type": "markdown",
   "id": "765c89de",
   "metadata": {},
   "source": [
    "### Correlations"
   ]
  },
  {
   "cell_type": "code",
   "execution_count": null,
   "id": "dba52dd5",
   "metadata": {},
   "outputs": [],
   "source": [
    "cs.plot.correlations(\"c_EG_RTP_T\", \"P_EG_buy_T\")"
   ]
  },
  {
   "cell_type": "code",
   "execution_count": null,
   "id": "43f1763e",
   "metadata": {},
   "outputs": [],
   "source": [
    "cs.plot.correlations(\"ce_EG_T\", \"P_EG_buy_T\")"
   ]
  },
  {
   "cell_type": "code",
   "execution_count": null,
   "id": "1b7b4908",
   "metadata": {},
   "outputs": [],
   "source": [
    "fig, ax = plt.subplots(1, 2, figsize=(6, 2), sharey=True)\n",
    "\n",
    "for i, sc in enumerate(cs.scens_list):\n",
    "    c = sc.params.c_EG_RTP_T * 1e3\n",
    "    p = sc.res.P_EG_buy_T / 1e3\n",
    "    corr = c.corr(p)\n",
    "    sns.regplot(\n",
    "        y=p, x=c, ax=ax[i], scatter_kws={\"s\": 1, \"color\": \"black\"}, line_kws={\"linewidth\": 1}\n",
    "    )\n",
    "    pric_scheme = sc.id.split(\"_\")[2]\n",
    "    ax[i].set_title(f\"{pric_scheme} scenario\\n$r={corr:.2f}$\")\n",
    "    ax[i].set_xlabel(\"Real-time-price (€/MWh)\")\n",
    "    ax[i].set_ylabel(\"Purchased electricity\\n(MWh)\")\n",
    "\n",
    "ax[1].set_ylabel(\"\")\n",
    "sns.despine()"
   ]
  },
  {
   "cell_type": "markdown",
   "id": "52344348",
   "metadata": {},
   "source": [
    "### Production Planning"
   ]
  },
  {
   "cell_type": "code",
   "execution_count": null,
   "id": "9b9c1096",
   "metadata": {
    "scrolled": false
   },
   "outputs": [],
   "source": [
    "from matplotlib.patches import Patch\n",
    "\n",
    "\n",
    "def plot_res(tariff_type, timeslice, sc, patch_legend=False, save=False):\n",
    "    fig, ax = plt.subplots(3, figsize=(10, 2.5))\n",
    "    sns.despine()\n",
    "\n",
    "    axis = ax[0]\n",
    "    dated = True\n",
    "    c_EG_T = sc.dated(sc.params.c_EG_T.loc[timeslice], dated) * 1e3\n",
    "    c_EG_T.plot(ax=axis, drawstyle=\"steps\", linewidth=1, c=\"black\", alpha=1, label=tariff_type)\n",
    "    axis.margins(0, 0.05)\n",
    "    axis.set_ylabel(\"El. price\\n(€/MWh)\", rotation=\"horizontal\", ha=\"right\", va=\"center\")\n",
    "    axis.axes.get_xaxis().set_visible(False)\n",
    "\n",
    "    axis = ax[1]\n",
    "    ser = sc.res.dG_PP_TSM.loc[timeslice, :, :]\n",
    "    ser[ser > 0] = ser.index.get_level_values(1)\n",
    "    df = ser.groupby(level=(0, 2)).sum().unstack().astype(int).T\n",
    "    cbar_labels = [\"off\", \"sort 1\", \"sort 2\", \"sort 3\"]\n",
    "    off_color = \"#eeeeee\"\n",
    "    colors = [off_color] + sort_colors\n",
    "    cmap = sns.color_palette(colors)\n",
    "    sns.heatmap(df, cmap=cmap, ax=axis, cbar=False)\n",
    "    axis.axes.get_xaxis().set_visible(False)\n",
    "    axis.set_ylabel(\"Machine\\nactivity\", rotation=\"horizontal\", ha=\"right\", va=\"center\")\n",
    "    axis.tick_params(axis=\"y\", labelrotation=0)\n",
    "\n",
    "    axis = ax[2]\n",
    "    sc.dated(sc.res.G_PS_TS.loc[timeslice, :].unstack() / 1e3, dated).plot.area(\n",
    "        ax=axis, color=sort_colors, legend=False, linewidth=0\n",
    "    )\n",
    "    axis.margins(0, 0)\n",
    "    axis.set_ylabel(\"Silo filling\\nlevel (kt)\", rotation=\"horizontal\", ha=\"right\", va=\"center\")\n",
    "    if patch_legend:\n",
    "        legend_elements = [Patch(facecolor=c, label=l) for c, l in zip(colors, cbar_labels)]\n",
    "        axis.legend(\n",
    "            handles=legend_elements,\n",
    "            loc=\"upper center\",\n",
    "            bbox_to_anchor=(0.5, -0.4),\n",
    "            ncol=4,\n",
    "            frameon=False,\n",
    "        )\n",
    "\n",
    "    fig.subplots_adjust(left=0, bottom=0, right=1, top=1, wspace=None, hspace=0.2)\n",
    "    fig.suptitle(tariff_type, fontsize=12, fontweight=\"bold\", x=-0.11, ha=\"left\", va=\"center\")\n",
    "    fullyear_str = \"_fullyear\" if timeslice == slice(None, None) else \"\"\n",
    "\n",
    "\n",
    "ts = cs.timeslice(4, 4)\n",
    "plot_res(\"TOU\", ts, cs.scens.tc_EG_TOU_T, patch_legend=False)\n",
    "plot_res(\"RTP\", ts, cs.scens.tc_EG_RTP_T, patch_legend=True)"
   ]
  }
 ],
 "metadata": {
  "jupytext": {
   "encoding": "# -*- coding: utf-8 -*-",
   "formats": "auto:percent,ipynb"
  },
  "kernelspec": {
   "display_name": "Python 3",
   "language": "python",
   "name": "python3"
  },
  "language_info": {
   "codemirror_mode": {
    "name": "ipython",
    "version": 3
   },
   "file_extension": ".py",
   "mimetype": "text/x-python",
   "name": "python",
   "nbconvert_exporter": "python",
   "pygments_lexer": "ipython3",
   "version": "3.9.12"
  },
  "toc": {
   "base_numbering": 1,
   "nav_menu": {},
   "number_sections": true,
   "sideBar": true,
   "skip_h1_title": false,
   "title_cell": "Table of Contents",
   "title_sidebar": "Contents",
   "toc_cell": false,
   "toc_position": {},
   "toc_section_display": true,
   "toc_window_display": true
  }
 },
 "nbformat": 4,
 "nbformat_minor": 5
}
