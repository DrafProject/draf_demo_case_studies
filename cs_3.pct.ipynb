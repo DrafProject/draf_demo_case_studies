{
 "cells": [
  {
   "cell_type": "markdown",
   "id": "7404d887",
   "metadata": {},
   "source": [
    "# DRAF demo Case Study 3: Multi-Objective Design and Operational Optimization of Thermal-Electric Sector Coupling"
   ]
  },
  {
   "cell_type": "code",
   "execution_count": null,
   "id": "32aff327",
   "metadata": {
    "init_cell": true
   },
   "outputs": [],
   "source": [
    "import matplotlib.pyplot as plt\n",
    "import pandas as pd\n",
    "import seaborn as sns\n",
    "import plotly.express as px\n",
    "import numpy as np\n",
    "\n",
    "import draf\n",
    "from draf.components import *"
   ]
  },
  {
   "cell_type": "markdown",
   "id": "9f782caf",
   "metadata": {},
   "source": [
    "## Modeling"
   ]
  },
  {
   "cell_type": "code",
   "execution_count": null,
   "id": "a0daadaf",
   "metadata": {},
   "outputs": [],
   "source": [
    "coords = (49.01, 8.39)  # Random place in Karlsruhe\n",
    "cs = draf.CaseStudy(\"draf_demo_cs3\", year=2020, freq=\"60min\", coords=coords, consider_invest=True)\n",
    "# cs.set_time_horizon(start=\"Jun-20 00:00\", steps=cs.steps_per_day * 5)\n",
    "\n",
    "hp_config = dict(n=3, ambient_as_source=False, ambient_as_sink=True, heating_levels=[])\n",
    "sc = cs.add_REF_scen(components=[cDem, eDem, hDem, EG, Fuel, H2H1, HOB, Main, HP(**hp_config)])\n",
    "new_thermal_demands = dict(\n",
    "    dQ_hDem_TH=sc.params.dQ_hDem_TH + 2e3, dQ_cDem_TN=sc.params.dQ_cDem_TN + 2e3\n",
    ")\n",
    "sc.update_params(**new_thermal_demands)\n",
    "\n",
    "\n",
    "def no_bio_fuel(sc, m, d, p, v, c):\n",
    "    m.addConstr(v.F_fuel_F[\"bio\"] == 0)\n",
    "\n",
    "\n",
    "cs.add_scen(\n",
    "    \"new\",\n",
    "    based_on=None,\n",
    "    components=[\n",
    "        cDem,\n",
    "        eDem(),\n",
    "        hDem,\n",
    "        BES(allow_new=True),\n",
    "        CHP(allow_new=True),\n",
    "        EG,\n",
    "        Fuel,\n",
    "        H2H1,\n",
    "        HOB(allow_new=True),\n",
    "        HP(n=3, allow_new=True),\n",
    "        P2H(allow_new=True),\n",
    "        PV(A_avail_=2e4),\n",
    "        TES(allow_new=True),\n",
    "        Main,\n",
    "    ],\n",
    "    custom_model=no_bio_fuel,\n",
    ").update_params(**new_thermal_demands)\n",
    "cs.add_scens(nParetoPoints=6, based_on=\"new\", remove_base=True)\n",
    "cs.improve_pareto_norm_factors()\n",
    "\n",
    "print(\n",
    "    \"Maximum demands for cooling = {:.0f} MW, heat = {:.0f} MW, electricity = {:.0f} MW\".format(\n",
    "        sc.params.dQ_cDem_TN.unstack().sum(1).max(),\n",
    "        sc.params.dQ_hDem_TH.unstack().sum(1).max(),\n",
    "        sc.params.P_eDem_T.max(),\n",
    "    )\n",
    ")"
   ]
  },
  {
   "cell_type": "code",
   "execution_count": null,
   "id": "86f19ce9",
   "metadata": {},
   "outputs": [],
   "source": [
    "# Uncomment to run optimization:\n",
    "# cs.optimize(parallel=True).save()"
   ]
  },
  {
   "cell_type": "code",
   "execution_count": null,
   "id": "40875cc8",
   "metadata": {},
   "outputs": [],
   "source": [
    "cs = draf.open_latest_casestudy(\"draf_demo_cs3\")\n",
    "cs.scens.sc5.doc = cs.scens.sc5.doc[:16]\n",
    "cs.scens.sc5.name = cs.scens.sc5.name[:4]\n",
    "cs.scens"
   ]
  },
  {
   "cell_type": "markdown",
   "id": "4e2ccbdd",
   "metadata": {},
   "source": [
    "## Plot Results"
   ]
  },
  {
   "cell_type": "code",
   "execution_count": null,
   "id": "d129d969",
   "metadata": {},
   "outputs": [],
   "source": [
    "cs.plot.tables()"
   ]
  },
  {
   "cell_type": "code",
   "execution_count": null,
   "id": "54e2cc78",
   "metadata": {},
   "outputs": [],
   "source": [
    "fig = cs.plot.capas(include_capx=False, subplot_x_anchors=(0.6, 0.8))\n",
    "fig.update_layout(template=\"plotly_white\")"
   ]
  },
  {
   "cell_type": "code",
   "execution_count": null,
   "id": "3756feb3",
   "metadata": {},
   "outputs": [],
   "source": [
    "df = cs.get_collector_values(\"C_TOT_\")[::-1] / 1e3\n",
    "df = df.rename(index=dict(inv=\"ann_inv\"))\n",
    "fig = px.bar(\n",
    "    df.T,\n",
    "    orientation=\"h\",\n",
    "    labels=dict(variable=\"Cost type:\", index=\"Scenario\", value=\"TAC (M€/a, cut at 10 M€/a)\"),\n",
    "    color_discrete_sequence=px.colors.qualitative.Set2,\n",
    "    barmode=\"group\",\n",
    "    width=400,\n",
    "    height=200,\n",
    "    template=\"plotly_white\",\n",
    ")\n",
    "fig.update_layout(\n",
    "    margin=dict(b=0, l=0, r=0, t=0),\n",
    "    yaxis_categoryorder=\"category descending\",\n",
    "    xaxis_range=[0, 10],\n",
    "    legend=dict(traceorder=\"reversed\", orientation=\"h\", yanchor=\"bottom\", y=1, xanchor=\"left\", x=0),\n",
    ")"
   ]
  },
  {
   "cell_type": "code",
   "execution_count": null,
   "id": "8cfd1725",
   "metadata": {},
   "outputs": [],
   "source": [
    "df = pd.DataFrame(cs.get_entity_dict(\"Q_TES_CAPn_L\")) / 1e3\n",
    "fig = px.bar(\n",
    "    df.T,\n",
    "    orientation=\"h\",\n",
    "    labels=dict(value=\"TES capacity (MWh)\", index=\"Scenario\", L=\"Temp. level:\"),\n",
    "    color_discrete_sequence=[\"#6C8EBF\", \"#accdfc\", \"#B85450\", \"#ed9f9d\"],\n",
    "    width=400,\n",
    "    height=200,\n",
    "    template=\"plotly_white\",\n",
    ")\n",
    "fig.update_layout(\n",
    "    margin=dict(b=0, l=0, r=0, t=0),\n",
    "    yaxis_categoryorder=\"category descending\",\n",
    "    legend=dict(orientation=\"h\", yanchor=\"bottom\", y=1, xanchor=\"right\", x=1),\n",
    ")"
   ]
  },
  {
   "cell_type": "code",
   "execution_count": null,
   "id": "4f4615ef",
   "metadata": {},
   "outputs": [],
   "source": [
    "df = cs.get_ent(\"P_EG_buy_T\").loc[:, :\"sc7\"] - cs.get_ent(\"P_EG_sell_T\").loc[:, :\"sc7\"]\n",
    "df /= 1e3\n",
    "# df = df.rename(columns=lambda x: f\"{x} ($\\\\alpha=${getattr(cs.scens, x).params.k_PTO_alpha_:.1f})\")\n",
    "fig, ax = plt.subplots(1, figsize=(9.5, 2))\n",
    "fig.subplots_adjust(bottom=0.23, left=0.06, right=0.99, top=0.965)\n",
    "sns.violinplot(data=df, orient=\"h\", scale=\"width\", ax=ax, cut=0, width=0.75, palette=\"Set2\")\n",
    "plt.margins(0.02)\n",
    "ax.set_xlabel(\"Electrical power from grid (MW$_\\mathrm{el}$)\", fontsize=12)\n",
    "ax.set_ylabel(\"Scenario\", fontsize=12)\n",
    "sns.despine()"
   ]
  },
  {
   "cell_type": "code",
   "execution_count": null,
   "id": "1b9dd28b",
   "metadata": {},
   "outputs": [],
   "source": [
    "fig, axes = plt.subplots(1, len(cs.scens_list), figsize=(10, 2), sharey=True, sharex=True)\n",
    "fig.subplots_adjust(bottom=0.25, left=0.06, right=0.99, top=0.68)\n",
    "\n",
    "for sc, ax in zip(cs.scens_list, axes):\n",
    "    p_diff = (sc.res.P_EG_buy_T - sc.res.P_EG_sell_T) / 1e3\n",
    "    incentive = sc.params.ce_EG_T * 1e3\n",
    "\n",
    "    y = incentive\n",
    "    x = p_diff\n",
    "\n",
    "    ax.scatter(x, y, s=0.02)\n",
    "\n",
    "    m, b = np.polyfit(x, y, 1)\n",
    "    ax.plot(x, m * x + b, \"k:\", lw=2)\n",
    "\n",
    "    ax.set_title(f\"{sc.id}\\n$\\\\rho_{{x,y}}$={x.corr(y):.2f}\\nslope={m:.0f}\")\n",
    "axes[0].set_ylabel(\"CEFs (kg$_\\mathrm{CO2eq}$/MWh)\")\n",
    "axes[3].set_xlabel(\"P$^\\mathrm{buy}_t$ - P$^\\mathrm{sell}_t$ (MW)\")\n",
    "sns.despine()"
   ]
  },
  {
   "cell_type": "markdown",
   "id": "42f18a00",
   "metadata": {},
   "source": [
    "### Pareto"
   ]
  },
  {
   "cell_type": "raw",
   "id": "94fb0802",
   "metadata": {},
   "source": [
    "cs.plot.pareto()"
   ]
  },
  {
   "cell_type": "code",
   "execution_count": null,
   "id": "b2ad05fa",
   "metadata": {},
   "outputs": [],
   "source": [
    "# Pareto with broken axis for paper\n",
    "import matplotlib.ticker as ticker\n",
    "\n",
    "df = cs.pareto.copy()\n",
    "x = df.CE_TOT_ / 1e6\n",
    "y = df.C_TOT_ / 1e3\n",
    "\n",
    "fig, (ax1, ax2) = plt.subplots(\n",
    "    2, 1, sharex=True, figsize=(6, 3), gridspec_kw={\"height_ratios\": [1, 4]}\n",
    ")\n",
    "fig.subplots_adjust(hspace=0.30, bottom=0.15, top=0.98, right=0.98)\n",
    "sns.despine()\n",
    "\n",
    "# REF point:\n",
    "ax2.plot(x[0], y[0], \"ko\")\n",
    "\n",
    "# guide lines of REF point:\n",
    "ax2.plot([0, x[0]], [y[0], y[0]], \"k\", lw=1, alpha=0.4)\n",
    "ax2.plot([x[0], x[0]], [y[0], 0], \"k\", lw=1, alpha=0.4)\n",
    "\n",
    "# Pareto frontier and points:\n",
    "for ax in (ax1, ax2):\n",
    "    ax.plot(x[1:], y[1:], \"ko\", linestyle=\":\", linewidth=2)\n",
    "    ax.set_xlim(0)\n",
    "    ax.grid(True, axis=\"y\", c=\"k\", lw=1, alpha=0.15)\n",
    "\n",
    "ax1.set_ylim(149.99, 155)\n",
    "ax2.set_ylim(0, 20)\n",
    "ax1.spines.bottom.set_visible(False)\n",
    "ax2.spines.top.set_visible(False)\n",
    "ax1.tick_params(labeltop=False, bottom=False)\n",
    "ax2.xaxis.tick_bottom()\n",
    "ax2.xaxis.set_major_locator(ticker.MultipleLocator(1))\n",
    "\n",
    "d = 0.2\n",
    "kw = dict(\n",
    "    marker=[(-1, -d), (1, d)],\n",
    "    markersize=12,\n",
    "    color=\"k\",\n",
    "    mec=\"k\",\n",
    "    mew=1,\n",
    "    clip_on=False,\n",
    ")\n",
    "ax1.plot([0], [0], transform=ax1.transAxes, **kw)\n",
    "ax2.plot([0], [1], transform=ax2.transAxes, **kw)\n",
    "\n",
    "fig.text(0.03, 0.58, \"TAC (M€/a)\", va=\"center\", rotation=\"vertical\")\n",
    "ax2.set_xlabel(\"Annual carbon emissions (kt$_\\mathrm{CO2eq} / a$)\")\n",
    "\n",
    "for i in df.index:\n",
    "    text = \"REF\" if i == \"REF\" else f\"{i} ({getattr(cs.scens, i).name})\".replace(\"a\", r\"$\\alpha$=\")\n",
    "    ax1.annotate(\n",
    "        text, xy=(x[i], y[i]), xytext=(x[i] + 0.2, y[i]), rotation=0, ha=\"left\", va=\"center\"\n",
    "    )\n",
    "    ax2.annotate(\n",
    "        text, xy=(x[i], y[i]), xytext=(x[i] + 0.1, y[i] + 0.1), rotation=35, ha=\"left\", va=\"bottom\"\n",
    "    )\n",
    "\n",
    "factor = cs.pareto.C_TOT_[\"sc7\"] / cs.pareto.C_TOT_[\"REF\"]\n",
    "print(f\"sc7 has {factor:.1f} times higher comparative costs than REF\")"
   ]
  },
  {
   "cell_type": "markdown",
   "id": "8042ad27",
   "metadata": {},
   "source": [
    "### Interactive"
   ]
  },
  {
   "cell_type": "code",
   "execution_count": null,
   "id": "7ad5b613",
   "metadata": {},
   "outputs": [],
   "source": [
    "cs.plot.tables()"
   ]
  },
  {
   "cell_type": "code",
   "execution_count": null,
   "id": "03d3f359",
   "metadata": {},
   "outputs": [],
   "source": [
    "cs.plot.sankey_interact()"
   ]
  },
  {
   "cell_type": "code",
   "execution_count": null,
   "id": "ad751de3",
   "metadata": {},
   "outputs": [],
   "source": [
    "cs.plot.heatmap_interact(\"v\")"
   ]
  },
  {
   "cell_type": "markdown",
   "id": "15da39bd",
   "metadata": {},
   "source": [
    "### Collectors"
   ]
  },
  {
   "cell_type": "code",
   "execution_count": null,
   "id": "6c9639a6",
   "metadata": {},
   "outputs": [],
   "source": [
    "cs.scens.REF.plot.collectors(filter_etype=\"C\", auto_convert_units=False)"
   ]
  },
  {
   "cell_type": "code",
   "execution_count": null,
   "id": "5f96ee41",
   "metadata": {},
   "outputs": [],
   "source": [
    "cs.scens.sc3.plot.collectors(filter_etype=\"C\", auto_convert_units=False)"
   ]
  },
  {
   "cell_type": "markdown",
   "id": "095f8c43",
   "metadata": {},
   "source": [
    "### combined heatmap and line"
   ]
  },
  {
   "cell_type": "code",
   "execution_count": null,
   "id": "d49ccd46",
   "metadata": {},
   "outputs": [],
   "source": [
    "fig = sc.plot.heatmap_line_py(sc.params.dQ_cDem_TN[:, 1], colorbar_label=\"kW_th\")\n",
    "fig.update_layout(margin={\"l\": 0, \"r\": 0, \"t\": 20, \"b\": 0}, width=800, height=400)"
   ]
  },
  {
   "cell_type": "code",
   "execution_count": null,
   "id": "e5dc01fa",
   "metadata": {},
   "outputs": [],
   "source": [
    "fig = sc.plot.heatmap_line_py(sc.params.dQ_cDem_TN[:, 2], colorbar_label=\"kW_th\")\n",
    "fig.update_layout(margin={\"l\": 0, \"r\": 0, \"t\": 20, \"b\": 0}, width=800, height=400)"
   ]
  },
  {
   "cell_type": "code",
   "execution_count": null,
   "id": "c5b410b2",
   "metadata": {},
   "outputs": [],
   "source": [
    "fig = sc.plot.heatmap_line_py(sc.params.dQ_hDem_TH[:, 1], colorbar_label=\"kW_th\")\n",
    "fig.update_layout(margin={\"l\": 0, \"r\": 0, \"t\": 20, \"b\": 0}, width=800, height=400)"
   ]
  },
  {
   "cell_type": "code",
   "execution_count": null,
   "id": "a23eabd2",
   "metadata": {},
   "outputs": [],
   "source": [
    "sc.plot.heatmap_line_py(sc.params.dQ_hDem_TH[:, 2])"
   ]
  },
  {
   "cell_type": "markdown",
   "id": "95109a0f",
   "metadata": {},
   "source": [
    "### TS balance"
   ]
  },
  {
   "cell_type": "code",
   "execution_count": null,
   "id": "29d1334e",
   "metadata": {},
   "outputs": [],
   "source": [
    "fig = cs.scens.sc3.plot.ts_balance(\n",
    "    data={\n",
    "        \"pos\": [\"P_PV_OC_T\", \"P_BES_out_T\", \"P_EG_buy_T\"],\n",
    "        \"neg\": [\"P_eDem_T\", \"P_BES_in_T\", \"P_PV_FI_T\"],\n",
    "    },\n",
    "    data_ylabel=\"Power<br>[MW]\",\n",
    "    data_conversion_factor=1e-3,\n",
    "    addon_ts=\"c_EG_RTP_T\",\n",
    "    addon_conversion_factor=1e3,\n",
    "    addon_ts_ylabel=\"Price<br>[€/MWh]\",\n",
    "    colors=dict(PV=\"#ffb703\", EG=\"#023047\", BES=\"#dd4477\", eDem=\"#8ecae6\"),\n",
    "    ts_slicer=slice(\"2020-06-15\", \"2020-06-21\"),\n",
    ")\n",
    "fig.update_layout(legend=dict(tracegroupgap=30, y=0.95))"
   ]
  },
  {
   "cell_type": "markdown",
   "id": "3567013b",
   "metadata": {},
   "source": [
    "## Correlations"
   ]
  },
  {
   "cell_type": "code",
   "execution_count": null,
   "id": "6b9d2510",
   "metadata": {},
   "outputs": [],
   "source": [
    "cs.plot.correlations(\"P_EG_buy_T\", \"c_EG_RTP_T\")"
   ]
  },
  {
   "cell_type": "code",
   "execution_count": null,
   "id": "8848a487",
   "metadata": {},
   "outputs": [],
   "source": [
    "cs.plot.correlations(\"P_EG_buy_T\", \"ce_EG_T\")"
   ]
  },
  {
   "cell_type": "code",
   "execution_count": null,
   "id": "1d9de5f1",
   "metadata": {},
   "outputs": [],
   "source": [
    "plt.scatter(\n",
    "    cs.scens.sc7.res.P_EG_buy_T - cs.scens.sc7.res.P_EG_sell_T, cs.scens.sc7.params.ce_EG_T, s=1\n",
    ")"
   ]
  },
  {
   "cell_type": "code",
   "execution_count": null,
   "id": "40eae4c9",
   "metadata": {},
   "outputs": [],
   "source": [
    "fig, ax = plt.subplots(1, len(cs.scens_list), figsize=(10, 2), sharex=True, sharey=True)\n",
    "for sc, ax in zip(cs.scens_list, ax):\n",
    "    p_diff = sc.res.P_EG_buy_T - sc.res.P_EG_sell_T\n",
    "    incentive = sc.params.c_EG_RTP_T\n",
    "    ax.scatter(p_diff, incentive, s=1)\n",
    "\n",
    "    x = p_diff\n",
    "    y = incentive\n",
    "\n",
    "    m, b = np.polyfit(x, y, 1)\n",
    "    ax.plot(x, m * x + b, \"k:\", lw=2)"
   ]
  },
  {
   "cell_type": "code",
   "execution_count": null,
   "id": "796a53da",
   "metadata": {},
   "outputs": [],
   "source": [
    "fig, ax = plt.subplots(1, len(cs.scens_list), figsize=(10, 2), sharey=True, sharex=True)\n",
    "for sc, ax in zip(cs.scens_list, ax):\n",
    "    p_diff = (sc.res.P_EG_buy_T - sc.res.P_EG_sell_T) / 1e3\n",
    "    incentive = sc.params.c_EG_RTP_T\n",
    "\n",
    "    y = incentive\n",
    "    x = p_diff\n",
    "\n",
    "    ax.scatter(x, y, s=0.02)\n",
    "\n",
    "    m, b = np.polyfit(x, y, 1)\n",
    "    ax.plot(x, m * x + b, \"k:\", lw=2)\n",
    "\n",
    "    ax.set_title(f\"{sc.id}\\n{x.corr(y):.2f}\\n{m:.3f}\")\n",
    "    sns.despine()"
   ]
  },
  {
   "cell_type": "code",
   "execution_count": null,
   "id": "97b69858",
   "metadata": {
    "lines_to_next_cell": 2
   },
   "outputs": [],
   "source": [
    "plt.figure(figsize=(3, 3))\n",
    "for i, sc in enumerate(cs.scens_list[::-1]):\n",
    "    p_diff = sc.res.P_EG_buy_T - sc.res.P_EG_sell_T\n",
    "    incentive = sc.params.ce_EG_T\n",
    "\n",
    "    y = incentive\n",
    "    x = p_diff\n",
    "\n",
    "    plt.scatter(x, y, s=3, alpha=0.1)\n",
    "    plt.title(f\"{x.corr(y):.2f}\")\n",
    "\n",
    "    m, b = np.polyfit(x, y, 1)\n",
    "    plt.plot(x, m * x + b, lw=10 - i, label=sc.id, alpha=1)\n",
    "    plt.legend()"
   ]
  }
 ],
 "metadata": {
  "jupytext": {
   "encoding": "# -*- coding: utf-8 -*-",
   "formats": "auto:percent,ipynb"
  },
  "kernelspec": {
   "display_name": "Python 3",
   "language": "python",
   "name": "python3"
  },
  "language_info": {
   "codemirror_mode": {
    "name": "ipython",
    "version": 3
   },
   "file_extension": ".py",
   "mimetype": "text/x-python",
   "name": "python",
   "nbconvert_exporter": "python",
   "pygments_lexer": "ipython3",
   "version": "3.9.12"
  },
  "toc": {
   "base_numbering": 1,
   "nav_menu": {},
   "number_sections": true,
   "sideBar": true,
   "skip_h1_title": false,
   "title_cell": "Table of Contents",
   "title_sidebar": "Contents",
   "toc_cell": false,
   "toc_position": {
    "height": "calc(100% - 180px)",
    "left": "10px",
    "top": "150px",
    "width": "313.594px"
   },
   "toc_section_display": true,
   "toc_window_display": true
  }
 },
 "nbformat": 4,
 "nbformat_minor": 5
}
