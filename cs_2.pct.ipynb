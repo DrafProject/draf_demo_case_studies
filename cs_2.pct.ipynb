{
 "cells": [
  {
   "cell_type": "markdown",
   "id": "f4f82b52",
   "metadata": {},
   "source": [
    "# DRAF demo Case Study 2: : Design Optimization of a Multi-Use BES and PV System"
   ]
  },
  {
   "cell_type": "code",
   "execution_count": 3,
   "id": "27d59424",
   "metadata": {
    "init_cell": true
   },
   "outputs": [],
   "source": [
    "import pandas as pd\n",
    "\n",
    "import draf\n",
    "from draf.components import *"
   ]
  },
  {
   "cell_type": "markdown",
   "id": "30508b75",
   "metadata": {},
   "source": [
    "## Modeling"
   ]
  },
  {
   "cell_type": "code",
   "execution_count": null,
   "id": "b882ea3f",
   "metadata": {
    "scrolled": false
   },
   "outputs": [],
   "source": [
    "coords = (49.01, 8.39)  # Random place in Karlsruhe\n",
    "p_el = pd.read_csv(\"P_el_2020_15min.csv\").squeeze(\"columns\")\n",
    "cs = draf.CaseStudy(\n",
    "    name=\"draf_demo_cs2\", year=2020, freq=\"15min\", coords=coords, consider_invest=True\n",
    ")\n",
    "# cs.set_time_horizon(start=\"Jun-1 00:00\", steps=cs.steps_per_day * 30)\n",
    "sc = cs.add_REF_scen(\n",
    "    components=[\n",
    "        eDem(p_el=cs.match_dtindex(p_el, resample=True)),\n",
    "        BES(allow_new=False),\n",
    "        EG(c_buyPeak=100),\n",
    "        PV(P_CAPx=300, A_avail_=1000, allow_new=False),\n",
    "        Main,\n",
    "    ]\n",
    ").update_params(\n",
    "    c_EG_addon_=0.06228,  # Source: sc.prep.c_EG_addon_(EEG_surcharge=0))\n",
    "    c_BES_inv_=209,  # Source: Forecast for 2022 in @Vartiainen_2019\n",
    "    c_PV_inv_=384,  # Source: Forecast for 2022 in @Vartiainen_2019\n",
    ")\n",
    "cs.add_scen(\"optBes\").update_params(z_BES_=1)\n",
    "cs.add_scen(\"optPV\").update_params(z_PV_=1)\n",
    "cs.add_scen(\"optBesPv\").update_params(z_BES_=1, z_PV_=1)"
   ]
  },
  {
   "cell_type": "code",
   "execution_count": null,
   "id": "5d6019df",
   "metadata": {},
   "outputs": [],
   "source": [
    "# Uncomment to run optimization:\n",
    "# cs.optimize(parallel=True).save()"
   ]
  },
  {
   "cell_type": "code",
   "execution_count": null,
   "id": "a88cb92b",
   "metadata": {},
   "outputs": [],
   "source": [
    "cs = draf.open_latest_casestudy(\"draf_demo_cs2\")"
   ]
  },
  {
   "cell_type": "markdown",
   "id": "9fb607fa",
   "metadata": {},
   "source": [
    "## Results"
   ]
  },
  {
   "cell_type": "code",
   "execution_count": null,
   "id": "8767eedb",
   "metadata": {},
   "outputs": [],
   "source": [
    "cs.plot.tables()"
   ]
  },
  {
   "cell_type": "code",
   "execution_count": null,
   "id": "b9390863",
   "metadata": {},
   "outputs": [],
   "source": [
    "cs.plot.sankey_interact()"
   ]
  },
  {
   "cell_type": "code",
   "execution_count": null,
   "id": "2a3cd9e1",
   "metadata": {},
   "outputs": [],
   "source": [
    "cs.plot.heatmap_interact(\"v\")"
   ]
  },
  {
   "cell_type": "code",
   "execution_count": null,
   "id": "78e0ffee",
   "metadata": {},
   "outputs": [],
   "source": [
    "import plotly.io as pio\n",
    "pio.kaleido.scope.mathjax = None  # https://github.com/plotly/plotly.py/issues/3469#issuecomment-994907721\n",
    "\n",
    "fig = cs.scens.optBesPv.plot.ts_balance(\n",
    "    data={\n",
    "        \"pos\": [\"P_PV_OC_T\", \"P_BES_out_T\", \"P_EG_buy_T\"],\n",
    "        \"neg\": [\"P_eDem_T\", \"P_BES_in_T\", \"P_PV_FI_T\"],\n",
    "    },\n",
    "    data_ylabel=\"Electric Power<br>(MW)\",\n",
    "    data_conversion_factor=1e-3,\n",
    "    addon_ts=\"c_EG_RTP_T\",\n",
    "    addon_conversion_factor=1e3,\n",
    "    addon_ts_ylabel=\"Price<br>(€/MWh)\",\n",
    "    colors=dict(  # https://coolors.co/8ecae6-219ebc-023047-ffb703-fb8500\n",
    "        PV=\"#ffb703\",\n",
    "        EG=\"#023047\",\n",
    "        BES=\"#dd4477\",\n",
    "        eDem=\"#8ecae6\",\n",
    "    ),\n",
    "    ts_slicer=slice(\"2020-06-15\", \"2020-06-21\"),\n",
    ")\n",
    "fig.update_layout(legend=dict(tracegroupgap=30, y=0.95))\n",
    "fig"
   ]
  },
  {
   "cell_type": "code",
   "execution_count": null,
   "id": "37ac46b0",
   "metadata": {},
   "outputs": [],
   "source": [
    "cs.scens.REF.plot.violin_T(show_zero=True)"
   ]
  },
  {
   "cell_type": "code",
   "execution_count": null,
   "id": "d3d9b116",
   "metadata": {},
   "outputs": [],
   "source": [
    "cs.scens.optBesPv.plot.violin_T(show_zero=True)"
   ]
  },
  {
   "cell_type": "code",
   "execution_count": null,
   "id": "52079c4a",
   "metadata": {},
   "outputs": [],
   "source": [
    "cs.plot.pareto()"
   ]
  }
 ],
 "metadata": {
  "jupytext": {
   "encoding": "# -*- coding: utf-8 -*-",
   "formats": "py:percent,ipynb"
  },
  "kernelspec": {
   "display_name": "Python 3",
   "language": "python",
   "name": "python3"
  },
  "language_info": {
   "codemirror_mode": {
    "name": "ipython",
    "version": 3
   },
   "file_extension": ".py",
   "mimetype": "text/x-python",
   "name": "python",
   "nbconvert_exporter": "python",
   "pygments_lexer": "ipython3",
   "version": "3.9.12"
  },
  "toc": {
   "base_numbering": 1,
   "nav_menu": {},
   "number_sections": true,
   "sideBar": true,
   "skip_h1_title": false,
   "title_cell": "Table of Contents",
   "title_sidebar": "Contents",
   "toc_cell": false,
   "toc_position": {},
   "toc_section_display": true,
   "toc_window_display": true
  }
 },
 "nbformat": 4,
 "nbformat_minor": 5
}
